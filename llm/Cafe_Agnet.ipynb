{
  "nbformat": 4,
  "nbformat_minor": 0,
  "metadata": {
    "colab": {
      "provenance": [],
      "gpuType": "T4"
    },
    "kernelspec": {
      "name": "python3",
      "display_name": "Python 3"
    },
    "language_info": {
      "name": "python"
    },
    "accelerator": "GPU"
  },
  "cells": [
    {
      "cell_type": "code",
      "execution_count": 2,
      "metadata": {
        "colab": {
          "base_uri": "https://localhost:8080/"
        },
        "id": "cswBlvVhJRDi",
        "outputId": "c7d791bc-6a34-4112-c31d-0a326d3ce1f7"
      },
      "outputs": [
        {
          "output_type": "stream",
          "name": "stdout",
          "text": [
            "\u001b[?25l   \u001b[90m━━━━━━━━━━━━━━━━━━━━━━━━━━━━━━━━━━━━━━━━\u001b[0m \u001b[32m0.0/352.0 kB\u001b[0m \u001b[31m?\u001b[0m eta \u001b[36m-:--:--\u001b[0m\r\u001b[2K   \u001b[90m━━━━━━━━━━━━━━━━━━━━━━━━━━━━━━━━━━━━━━━━\u001b[0m \u001b[32m352.0/352.0 kB\u001b[0m \u001b[31m12.8 MB/s\u001b[0m eta \u001b[36m0:00:00\u001b[0m\n",
            "\u001b[?25h\u001b[?25l   \u001b[90m━━━━━━━━━━━━━━━━━━━━━━━━━━━━━━━━━━━━━━━━\u001b[0m \u001b[32m0.0/108.9 kB\u001b[0m \u001b[31m?\u001b[0m eta \u001b[36m-:--:--\u001b[0m\r\u001b[2K   \u001b[90m━━━━━━━━━━━━━━━━━━━━━━━━━━━━━━━━━━━━━━━━\u001b[0m \u001b[32m108.9/108.9 kB\u001b[0m \u001b[31m10.9 MB/s\u001b[0m eta \u001b[36m0:00:00\u001b[0m\n",
            "\u001b[?25h\u001b[?25l   \u001b[90m━━━━━━━━━━━━━━━━━━━━━━━━━━━━━━━━━━━━━━━━\u001b[0m \u001b[32m0.0/45.5 kB\u001b[0m \u001b[31m?\u001b[0m eta \u001b[36m-:--:--\u001b[0m\r\u001b[2K   \u001b[90m━━━━━━━━━━━━━━━━━━━━━━━━━━━━━━━━━━━━━━━━\u001b[0m \u001b[32m45.5/45.5 kB\u001b[0m \u001b[31m4.1 MB/s\u001b[0m eta \u001b[36m0:00:00\u001b[0m\n",
            "\u001b[?25h\u001b[?25l   \u001b[90m━━━━━━━━━━━━━━━━━━━━━━━━━━━━━━━━━━━━━━━━\u001b[0m \u001b[32m0.0/147.8 kB\u001b[0m \u001b[31m?\u001b[0m eta \u001b[36m-:--:--\u001b[0m\r\u001b[2K   \u001b[90m━━━━━━━━━━━━━━━━━━━━━━━━━━━━━━━━━━━━━━━━\u001b[0m \u001b[32m147.8/147.8 kB\u001b[0m \u001b[31m12.1 MB/s\u001b[0m eta \u001b[36m0:00:00\u001b[0m\n",
            "\u001b[2K   \u001b[90m━━━━━━━━━━━━━━━━━━━━━━━━━━━━━━━━━━━━━━━━\u001b[0m \u001b[32m313.9/313.9 kB\u001b[0m \u001b[31m20.3 MB/s\u001b[0m eta \u001b[36m0:00:00\u001b[0m\n",
            "\u001b[2K   \u001b[90m━━━━━━━━━━━━━━━━━━━━━━━━━━━━━━━━━━━━━━━━\u001b[0m \u001b[32m1.2/1.2 MB\u001b[0m \u001b[31m39.9 MB/s\u001b[0m eta \u001b[36m0:00:00\u001b[0m\n",
            "\u001b[?25h"
          ]
        }
      ],
      "source": [
        "!pip install -qqq autogen groq"
      ]
    },
    {
      "cell_type": "code",
      "source": [
        "from google.colab import userdata\n",
        "\n",
        "GROQ_API_KEY=userdata.get('GROQ_API_KEY')\n",
        "config_list = [\n",
        "    {\n",
        "\n",
        "        \"model\": \"llama-3.1-8b-instant\", #llama-3.2-90b-text-preview\n",
        "\n",
        "        \"api_key\": GROQ_API_KEY,\n",
        "\n",
        "        \"api_type\": \"groq\",\n",
        "    }\n",
        "]\n",
        "\n",
        "GROQ_API_KEY1=userdata.get('GROQ_API_KEY1')\n",
        "config_list_1= [\n",
        "    {\n",
        "\n",
        "        \"model\": \"gemma2-9b-it\", #llama-3.2-90b-text-preview\n",
        "\n",
        "        \"api_key\": GROQ_API_KEY1,\n",
        "\n",
        "        \"api_type\": \"groq\",\n",
        "    }\n",
        "]"
      ],
      "metadata": {
        "id": "KnFUAtJDPcT7"
      },
      "execution_count": 95,
      "outputs": []
    },
    {
      "cell_type": "code",
      "source": [
        "from autogen.coding import LocalCommandLineCodeExecutor\n",
        "import tempfile\n",
        "\n",
        "temp_dir=tempfile.TemporaryDirectory()\n",
        "\n",
        "executer=LocalCommandLineCodeExecutor(work_dir=temp_dir.name)\n",
        "\n"
      ],
      "metadata": {
        "id": "FGCeRKiZTqaS"
      },
      "execution_count": 96,
      "outputs": []
    },
    {
      "cell_type": "code",
      "source": [
        "from autogen import ConversableAgent\n",
        "\n",
        "data_agent=ConversableAgent(\n",
        "    name=\"data_Agent\",\n",
        "    system_message=\"Pass the address to the next agnet\",\n",
        "    llm_config={\"config_list\":  config_list_1},\n",
        "    human_input_mode=\"NEVER\",\n",
        ")\n",
        "\n",
        "code_writer_agent=ConversableAgent(\n",
        "    'code_writer',\n",
        "    llm_config={\"config_list\": config_list},\n",
        "    system_message='You are a coder agent. write a code to read from a JSON file path',\n",
        "    code_execution_config=False\n",
        "\n",
        ")\n",
        "\n",
        "code_executer_agent=ConversableAgent(\n",
        "    'code_executer_Agent',\n",
        "    system_message='execute the code and print the output and pass it to others agents.',\n",
        "    llm_config=False,\n",
        "    code_execution_config={'executor':executer},\n",
        "    human_input_mode='ALWAYS',\n",
        "    is_termination_msg=lambda msg: \"TERMINATE\" in msg[\"content\"]\n",
        ")\n",
        "\n",
        "control_agent = ConversableAgent(\n",
        "    name=\"control_Agent\",\n",
        "    system_message=\"your job is to get the data and answer the user question\",\n",
        "    llm_config={\"config_list\":  config_list},\n",
        "    human_input_mode=\"ALWAYS\",\n",
        ")\n",
        "\n",
        "Inventory_agent = ConversableAgent(\n",
        "    name=\"Inventory_Agent\",\n",
        "    system_message=\"\"\"You are a inventory manager of a local coffeeshop with 40 products. Your job is to access the information about inventory and extract required information about Ingredients.\n",
        "    and answer any question based on your knowledge.\n",
        "\n",
        " \"\"\",\n",
        "    llm_config={\"config_list\":  config_list},\n",
        "    human_input_mode=\"NEVER\",\n",
        ")\n",
        "\n",
        "Product_agent = ConversableAgent(\n",
        "    name=\"Product_Agent\",\n",
        "    system_message=\"\"\"You are a prodcut manager of a local coffeeshop with 40 products. Your job is to access the information about products and extract required information about products.\n",
        "    and answer any question based on your knowledge.\"\"\",\n",
        "    llm_config={\"config_list\":  config_list},\n",
        "    human_input_mode=\"NEVER\",\n",
        ")\n",
        "\n",
        "Inventory_agent.description = \"Inventory manager of coffeeshop\"\n",
        "Product_agent.description = \"Product manager of coffeeshop\"\n",
        "data_agent.description=\"data provider of coffeeshop\"\n",
        "code_executer_agent.description=\"Code executer\"\n",
        "code_writer_agent.description=\"Code writer\"\n",
        "control_agent.description=\"control agent\""
      ],
      "metadata": {
        "id": "qqZN4O1LP8kV"
      },
      "execution_count": 107,
      "outputs": []
    },
    {
      "cell_type": "code",
      "source": [
        "allowed_transitions = {\n",
        "    data_agent: [code_writer_agent],\n",
        "    code_writer_agent: [code_executer_agent],\n",
        "    code_executer_agent: [control_agent],\n",
        "    control_agent: [Inventory_agent, Product_agent],\n",
        "\n",
        "    }"
      ],
      "metadata": {
        "id": "frVj1YhrUtgk"
      },
      "execution_count": 108,
      "outputs": []
    },
    {
      "cell_type": "code",
      "source": [
        "from autogen import GroupChat\n",
        "from autogen import GroupChatManager\n",
        "\n",
        "group_chat_with_introductions = GroupChat(\n",
        "    agents=[data_agent,code_writer_agent,control_agent,code_executer_agent,Inventory_agent,Product_agent],\n",
        "    messages=[],\n",
        "    max_round=6,\n",
        "    send_introductions=True,\n",
        "    allowed_or_disallowed_speaker_transitions=allowed_transitions,\n",
        "    speaker_transitions_type=\"allowed\",\n",
        ")\n",
        "\n",
        "\n",
        "group_chat_manager_with_intros = GroupChatManager(\n",
        "    groupchat=group_chat_with_introductions,\n",
        "    llm_config={\"config_list\": config_list},\n",
        ")"
      ],
      "metadata": {
        "id": "cvmkWfYCP7sW"
      },
      "execution_count": 109,
      "outputs": []
    },
    {
      "cell_type": "code",
      "source": [
        "chat_result = data_agent.initiate_chat(\n",
        "    group_chat_manager_with_intros,\n",
        "    message=\"Read my dataset from a JSON file: /content/Full_Dataset.json\",\n",
        "    summary_method=\"reflection_with_llm\",\n",
        ")"
      ],
      "metadata": {
        "colab": {
          "base_uri": "https://localhost:8080/"
        },
        "id": "CFAMXxDPXKs1",
        "outputId": "6251decd-aee6-46c9-98f5-efe9f7d105b0"
      },
      "execution_count": 110,
      "outputs": [
        {
          "output_type": "stream",
          "name": "stdout",
          "text": [
            "data_Agent (to chat_manager):\n",
            "\n",
            "Read my dataset from a JSON file: /content/Full_Dataset.json\n",
            "\n",
            "--------------------------------------------------------------------------------\n",
            "\n",
            "Next speaker: code_writer\n",
            "\n",
            "\n",
            ">>>>>>>> USING AUTO REPLY...\n",
            "code_writer (to chat_manager):\n",
            "\n",
            "**Reading JSON Data from a File**\n",
            "\n",
            "I'll write a Python code snippet to read your JSON data from a file path. This code assumes you're using the `json` module for handling JSON data and `requests` for simulating fetching a file. However, since the file is local, I'll use Python's built-in `json` module.\n",
            "\n",
            "```python\n",
            "import json\n",
            "\n",
            "class Code_writer:\n",
            "    def read_json_file(self, file_path):\n",
            "        try:\n",
            "            # Open the JSON file\n",
            "            with open(file_path, 'r') as file:\n",
            "                # Load the JSON data\n",
            "                data = json.load(file)\n",
            "                return data\n",
            "        except FileNotFoundError:\n",
            "            print(f\"File not found: {file_path}\")\n",
            "            return None\n",
            "        except json.JSONDecodeError:\n",
            "            print(f\"Invalid JSON: {file_path}\")\n",
            "            return None\n",
            "\n",
            "# Usage\n",
            "file_path = \"/content/Full_Dataset.json\"\n",
            "data_reader = Code_writer()\n",
            "data = data_reader.read_json_file(file_path)\n",
            "\n",
            "if data:\n",
            "    print(data)\n",
            "```\n",
            "\n",
            "**Code Explanation**\n",
            "\n",
            "*   We define a `Code_writer` class with a `read_json_file` method.\n",
            "*   The method takes a file path as input and attempts to open it in read-only mode (`'r'`).\n",
            "*   If the file is found, we use the `json.load` function to parse the JSON data.\n",
            "*   We handle two potential exceptions:\n",
            "    *   `FileNotFoundError`: If the file does not exist, we print an error message.\n",
            "    *   `json.JSONDecodeError`: If the JSON data is invalid, we print an error message.\n",
            "*   Finally, we create an instance of the `Code_writer` class and use it to read the JSON data from the specified file path.\n",
            "\n",
            "Please note that you may need to adjust the file path and any other dependencies based on your specific project requirements. This code should provide a basic example of how to read JSON data from a file in Python.\n",
            "\n",
            "--------------------------------------------------------------------------------\n",
            "\n",
            "Next speaker: code_executer_Agent\n",
            "\n",
            "Replying as code_executer_Agent. Provide feedback to chat_manager. Press enter to skip and use auto-reply, or type 'exit' to end the conversation: \n",
            "\n",
            ">>>>>>>> NO HUMAN INPUT RECEIVED.\n",
            "\n",
            ">>>>>>>> USING AUTO REPLY...\n",
            "\n",
            ">>>>>>>> EXECUTING CODE BLOCK (inferred language is python)...\n",
            "code_executer_Agent (to chat_manager):\n",
            "\n",
            "exitcode: 0 (execution succeeded)\n",
            "Code output: {'products': [{'name': 'Espresso', 'sell_price': 1.4, 'sale_ratio': '10%', 'ingredients': [{'name': 'Espresso beans', 'quantity_usedIn_product_per_buying_unit': 22, 'unit': 'grams', 'buying_price': 17.3, 'buying_unit': 1000}, {'name': 'Water', 'quantity_usedIn_product_per_buying_unit': 60, 'unit': 'ml', 'buying_price': 0.5, 'buying_unit': 1500}]}, {'name': 'Americano', 'sell_price': 1.5, 'sale_ratio': '4%', 'ingredients': [{'name': 'Espresso beans', 'quantity_usedIn_product_per_buying_unit': 22, 'unit': 'grams', 'buying_price': 17.3, 'buying_unit': 1000}, {'name': 'Water', 'quantity_usedIn_product_per_buying_unit': 180, 'unit': 'ml', 'buying_price': 0.5, 'buying_unit': 1500}]}, {'name': 'Latte', 'sell_price': 2.3, 'sale_ratio': '7%', 'ingredients': [{'name': 'Espresso', 'quantity_usedIn_product_per_buying_unit': 30, 'unit': 'ml', 'buying_price': 0.5, 'buying_unit': 1}, {'name': 'Milk', 'quantity_usedIn_product_per_buying_unit': 180, 'unit': 'ml', 'buying_price': 1.3, 'buying_unit': 1000}]}, {'name': 'Cappuccino', 'sell_price': 2.1, 'sale_ratio': '6%', 'ingredients': [{'name': 'Espresso', 'quantity_usedIn_product_per_buying_unit': 30, 'unit': 'ml', 'buying_price': 0.5, 'buying_unit': 1}, {'name': 'Milk', 'quantity_usedIn_product_per_buying_unit': 120, 'unit': 'ml', 'buying_price': 1.3, 'buying_unit': 1000}]}, {'name': 'Macchiato', 'sell_price': 1.9, 'sale_ratio': '3%', 'ingredients': [{'name': 'Espresso', 'quantity_usedIn_product_per_buying_unit': 30, 'unit': 'ml', 'buying_price': 0.5, 'buying_unit': 1}, {'name': 'Milk', 'quantity_usedIn_product_per_buying_unit': 60, 'unit': 'ml', 'buying_price': 1.3, 'buying_unit': 1000}]}, {'name': 'Mocha', 'sell_price': 3.5, 'sale_ratio': '2.5%', 'ingredients': [{'name': 'Espresso', 'quantity_usedIn_product_per_buying_unit': 30, 'unit': 'ml', 'buying_price': 0.5, 'buying_unit': 1}, {'name': 'Milk', 'quantity_usedIn_product_per_buying_unit': 180, 'unit': 'ml', 'buying_price': 1.3, 'buying_unit': 1000}, {'name': 'Chocolate syrup', 'quantity_usedIn_product_per_buying_unit': 20, 'unit': 'grams', 'buying_price': 14.3, 'buying_unit': 700}]}, {'name': 'Flat white', 'sell_price': 2.2, 'sale_ratio': '1%', 'ingredients': [{'name': 'Espresso', 'quantity_usedIn_product_per_buying_unit': 30, 'unit': 'ml', 'buying_price': 0.5, 'buying_unit': 1}, {'name': 'Milk', 'quantity_usedIn_product_per_buying_unit': 160, 'unit': 'ml', 'buying_price': 1.3, 'buying_unit': 1000}]}, {'name': 'Affogato', 'sell_price': 2.7, 'sale_ratio': '1.25%', 'ingredients': [{'name': 'Espresso', 'quantity_usedIn_product_per_buying_unit': 30, 'unit': 'ml', 'buying_price': 0.5, 'buying_unit': 1}, {'name': 'Ice-cream', 'quantity_usedIn_product_per_buying_unit': 60, 'unit': 'grams', 'buying_price': 4.7, 'buying_unit': 1000}]}, {'name': 'Caramel macchiato', 'sell_price': 4.15, 'sale_ratio': '4%', 'ingredients': [{'name': 'Espresso', 'quantity_usedIn_product_per_buying_unit': 30, 'unit': 'ml', 'buying_price': 0.5, 'buying_unit': 1}, {'name': 'Milk', 'quantity_usedIn_product_per_buying_unit': 240, 'unit': 'ml', 'buying_price': 1.3, 'buying_unit': 1000}, {'name': 'Caramel sauce', 'quantity_usedIn_product_per_buying_unit': 20, 'unit': 'grams', 'buying_price': 11.2, 'buying_unit': 500}]}, {'name': 'Misto', 'sell_price': 2.0, 'sale_ratio': '0.75%', 'ingredients': [{'name': 'Espresso', 'quantity_usedIn_product_per_buying_unit': 30, 'unit': 'ml', 'buying_price': 0.5, 'buying_unit': 1}, {'name': 'Water', 'quantity_usedIn_product_per_buying_unit': 240, 'unit': 'ml', 'buying_price': 0.5, 'buying_unit': 1500}, {'name': 'Milk', 'quantity_usedIn_product_per_buying_unit': 60, 'unit': 'ml', 'buying_price': 1.3, 'buying_unit': 1000}]}, {'name': 'Cortado', 'sell_price': 1.9, 'sale_ratio': '0.50%', 'ingredients': [{'name': 'Espresso', 'quantity_usedIn_product_per_buying_unit': 30, 'unit': 'ml', 'buying_price': 0.5, 'buying_unit': 1}, {'name': 'Milk', 'quantity_usedIn_product_per_buying_unit': 30, 'unit': 'ml', 'buying_price': 1.3, 'buying_unit': 1000}]}, {'name': 'Black tea', 'sell_price': 1.1, 'sale_ratio': '8%', 'ingredients': [{'name': 'Black tea loose leaf', 'quantity_usedIn_product_per_buying_unit': 3, 'unit': 'grams', 'buying_price': 6.4, 'buying_unit': 500}, {'name': 'Water', 'quantity_usedIn_product_per_buying_unit': 240, 'unit': 'ml', 'buying_price': 0.5, 'buying_unit': 1500}]}, {'name': 'Green tea', 'sell_price': 1.1, 'sale_ratio': '4.25%', 'ingredients': [{'name': 'Green tea loose leaf', 'quantity_usedIn_product_per_buying_unit': 3, 'unit': 'grams', 'buying_price': 6.9, 'buying_unit': 500}, {'name': 'Water', 'quantity_usedIn_product_per_buying_unit': 240, 'unit': 'ml', 'buying_price': 0.5, 'buying_unit': 1500}]}, {'name': 'Sour tea', 'sell_price': 2.15, 'sale_ratio': '1%', 'ingredients': [{'name': 'Dried hibiscus flowers', 'quantity_usedIn_product_per_buying_unit': 8, 'unit': 'grams', 'buying_price': 21.4, 'buying_unit': 1000}, {'name': 'Water', 'quantity_usedIn_product_per_buying_unit': 240, 'unit': 'ml', 'buying_price': 0.5, 'buying_unit': 1500}]}, {'name': 'Mint tea', 'sell_price': 1.0, 'sale_ratio': '1%', 'ingredients': [{'name': 'Dried mint leaf', 'quantity_usedIn_product_per_buying_unit': 3, 'unit': 'grams', 'buying_price': 4.8, 'buying_unit': 250}, {'name': 'Water', 'quantity_usedIn_product_per_buying_unit': 240, 'unit': 'ml', 'buying_price': 0.5, 'buying_unit': 1500}]}, {'name': 'Earl grey tea', 'sell_price': 1.7, 'sale_ratio': '1.25%', 'ingredients': [{'name': 'Black tea loose leaf', 'quantity_usedIn_product_per_buying_unit': 5, 'unit': 'grams', 'buying_price': 6.4, 'buying_unit': 500}, {'name': 'Water', 'quantity_usedIn_product_per_buying_unit': 240, 'unit': 'ml', 'buying_price': 0.5, 'buying_unit': 1500}, {'name': 'Honey', 'quantity_usedIn_product_per_buying_unit': 10, 'unit': 'grams', 'buying_price': 1.8, 'buying_unit': 340}]}, {'name': 'Ginger tea', 'sell_price': 1.8, 'sale_ratio': '0.25%', 'ingredients': [{'name': 'Dried ginger root', 'quantity_usedIn_product_per_buying_unit': 15, 'unit': 'grams', 'buying_price': 1.2, 'buying_unit': 125}, {'name': 'Water', 'quantity_usedIn_product_per_buying_unit': 240, 'unit': 'ml', 'buying_price': 0.5, 'buying_unit': 1500}]}, {'name': 'Chocolate cake', 'sell_price': 9.75, 'sale_ratio': '2.75%', 'ingredients': [{'name': 'All-purpose flour', 'quantity_usedIn_product_per_buying_unit': 240, 'unit': 'grams', 'buying_price': 5.8, 'buying_unit': 500}, {'name': 'Sugar', 'quantity_usedIn_product_per_buying_unit': 400, 'unit': 'grams', 'buying_price': 1.2, 'buying_unit': 1000}, {'name': 'Cocoa powder', 'quantity_usedIn_product_per_buying_unit': 75, 'unit': 'grams', 'buying_price': 13.0, 'buying_unit': 1000}, {'name': 'Baking powder', 'quantity_usedIn_product_per_buying_unit': 10, 'unit': 'grams', 'buying_price': 0.8, 'buying_unit': 100}, {'name': 'Baking soda', 'quantity_usedIn_product_per_buying_unit': 8, 'unit': 'grams', 'buying_price': 8.1, 'buying_unit': 1000}, {'name': 'Salt', 'quantity_usedIn_product_per_buying_unit': 5, 'unit': 'grams', 'buying_price': 0.5, 'buying_unit': 1000}, {'name': 'Eggs', 'quantity_usedIn_product_per_buying_unit': 2, 'unit': 'pieces', 'buying_price': 2.9, 'buying_unit': 12}, {'name': 'Milk', 'quantity_usedIn_product_per_buying_unit': 240, 'unit': 'ml', 'buying_price': 1.3, 'buying_unit': 1000}, {'name': 'Vegetable oil', 'quantity_usedIn_product_per_buying_unit': 240, 'unit': 'ml', 'buying_price': 2.3, 'buying_unit': 1000}, {'name': 'Vanilla extract', 'quantity_usedIn_product_per_buying_unit': 10, 'unit': 'ml', 'buying_price': 14.1, 'buying_unit': 118}]}, {'name': 'Lemon cake', 'sell_price': 9.1, 'sale_ratio': '2.25%', 'ingredients': [{'name': 'All-purpose flour', 'quantity_usedIn_product_per_buying_unit': 240, 'unit': 'grams', 'buying_price': 5.8, 'buying_unit': 500}, {'name': 'Sugar', 'quantity_usedIn_product_per_buying_unit': 300, 'unit': 'grams', 'buying_price': 1.2, 'buying_unit': 1000}, {'name': 'Baking powder', 'quantity_usedIn_product_per_buying_unit': 10, 'unit': 'grams', 'buying_price': 0.8, 'buying_unit': 100}, {'name': 'Salt', 'quantity_usedIn_product_per_buying_unit': 3, 'unit': 'grams', 'buying_price': 0.5, 'buying_unit': 1000}, {'name': 'Butter', 'quantity_usedIn_product_per_buying_unit': 225, 'unit': 'grams', 'buying_price': 1.5, 'buying_unit': 250}, {'name': 'Eggs', 'quantity_usedIn_product_per_buying_unit': 4, 'unit': 'pieces', 'buying_price': 2.9, 'buying_unit': 12}, {'name': 'Milk', 'quantity_usedIn_product_per_buying_unit': 180, 'unit': 'ml', 'buying_price': 1.3, 'buying_unit': 1000}, {'name': 'Lemon juice', 'quantity_usedIn_product_per_buying_unit': 60, 'unit': 'ml', 'buying_price': 1.9, 'buying_unit': 500}]}, {'name': 'Carrot cake', 'sell_price': 12.4, 'sale_ratio': '1.25%', 'ingredients': [{'name': 'All-purpose flour', 'quantity_usedIn_product_per_buying_unit': 240, 'unit': 'grams', 'buying_price': 5.8, 'buying_unit': 500}, {'name': 'Sugar', 'quantity_usedIn_product_per_buying_unit': 400, 'unit': 'grams', 'buying_price': 1.2, 'buying_unit': 1000}, {'name': 'Baking powder', 'quantity_usedIn_product_per_buying_unit': 10, 'unit': 'grams', 'buying_price': 0.8, 'buying_unit': 100}, {'name': 'Baking soda', 'quantity_usedIn_product_per_buying_unit': 8, 'unit': 'grams', 'buying_price': 8.1, 'buying_unit': 1000}, {'name': 'Salt', 'quantity_usedIn_product_per_buying_unit': 5, 'unit': 'grams', 'buying_price': 0.5, 'buying_unit': 1000}, {'name': 'Ground cinnamon', 'quantity_usedIn_product_per_buying_unit': 5, 'unit': 'grams', 'buying_price': 6.25, 'buying_unit': 500}, {'name': 'Ground ginger', 'quantity_usedIn_product_per_buying_unit': 2, 'unit': 'grams', 'buying_price': 8.65, 'buying_unit': 500}, {'name': 'Eggs', 'quantity_usedIn_product_per_buying_unit': 4, 'unit': 'pieces', 'buying_price': 2.9, 'buying_unit': 12}, {'name': 'Vegetable oil', 'quantity_usedIn_product_per_buying_unit': 360, 'unit': 'ml', 'buying_price': 2.3, 'buying_unit': 1000}, {'name': 'Grated carrots', 'quantity_usedIn_product_per_buying_unit': 300, 'unit': 'grams', 'buying_price': 4.5, 'buying_unit': 1000}]}, {'name': 'Strawberry cake', 'sell_price': 10.9, 'sale_ratio': '2.5%', 'ingredients': [{'name': 'All-purpose flour', 'quantity_usedIn_product_per_buying_unit': 125, 'unit': 'grams', 'buying_price': 5.8, 'buying_unit': 500}, {'name': 'Sugar', 'quantity_usedIn_product_per_buying_unit': 10, 'unit': 'grams', 'buying_price': 1.2, 'buying_unit': 500}, {'name': 'Baking powder', 'quantity_usedIn_product_per_buying_unit': 2.5, 'unit': 'grams', 'buying_price': 0.8, 'buying_unit': 100}, {'name': 'Salt', 'quantity_usedIn_product_per_buying_unit': 1.25, 'unit': 'grams', 'buying_price': 0.5, 'buying_unit': 300}, {'name': 'Butter', 'quantity_usedIn_product_per_buying_unit': 50, 'unit': 'ml', 'buying_price': 3.5, 'buying_unit': 250}, {'name': 'Cream', 'quantity_usedIn_product_per_buying_unit': 62.5, 'unit': 'grams', 'buying_price': 4.0, 'buying_unit': 500}, {'name': 'Strawberries', 'quantity_usedIn_product_per_buying_unit': 340, 'unit': 'grams', 'buying_price': 5.5, 'buying_unit': 250}]}, {'name': 'Red Velvet Cake', 'sell_price': 14.9, 'sale_ratio': '3.0%', 'ingredients': [{'name': 'All-purpose flour', 'quantity_usedIn_product_per_buying_unit': 240, 'unit': 'grams', 'buying_price': 5.8, 'buying_unit': 500}, {'name': 'Cocoa powder', 'quantity_usedIn_product_per_buying_unit': 75, 'unit': 'grams', 'buying_price': 13, 'buying_unit': 1000}, {'name': 'Sugar', 'quantity_usedIn_product_per_buying_unit': 200, 'unit': 'grams', 'buying_price': 1.2, 'buying_unit': 1000}, {'name': 'Baking soda', 'quantity_usedIn_product_per_buying_unit': 50, 'unit': 'grams', 'buying_price': 8.1, 'buying_unit': 1000}, {'name': 'Salt', 'quantity_usedIn_product_per_buying_unit': 2.5, 'unit': 'grams', 'buying_price': 0.5, 'buying_unit': 100}, {'name': 'Milk', 'quantity_usedIn_product_per_buying_unit': 250, 'unit': 'ml', 'buying_price': 1.3, 'buying_unit': 1000}, {'name': 'Vegetable oil', 'quantity_usedIn_product_per_buying_unit': 125, 'unit': 'ml', 'buying_price': 2.3, 'buying_unit': 1000}, {'name': 'Water', 'quantity_usedIn_product_per_buying_unit': 100, 'unit': 'ml', 'buying_price': 0.5, 'buying_unit': 1500}, {'name': 'Vanilla extract', 'quantity_usedIn_product_per_buying_unit': 5, 'unit': 'ml', 'buying_price': 14.1, 'buying_unit': 118}, {'name': 'Eggs', 'quantity_usedIn_product_per_buying_unit': 2, 'unit': 'pieces', 'buying_price': 2.9, 'buying_unit': 12}]}, {'name': 'Cheesecake', 'sell_price': 17.5, 'sale_ratio': '2.25%', 'ingredients': [{'name': 'Graham cracker crumbs', 'quantity_usedIn_product_per_buying_unit': 150, 'unit': 'grams', 'buying_price': 10.8, 'buying_unit': 500}, {'name': 'Sugar', 'quantity_usedIn_product_per_buying_unit': 300, 'unit': 'grams', 'buying_price': 1.2, 'buying_unit': 500}, {'name': 'Butter', 'quantity_usedIn_product_per_buying_unit': 115, 'unit': 'grams', 'buying_price': 3.5, 'buying_unit': 250}, {'name': 'Cream cheese', 'quantity_usedIn_product_per_buying_unit': 9.6, 'unit': 'grams', 'buying_price': 1.5, 'buying_unit': 200}, {'name': 'Cream', 'quantity_usedIn_product_per_buying_unit': 240, 'unit': 'ml', 'buying_price': 4.0, 'buying_unit': 500}, {'name': 'Eggs', 'quantity_usedIn_product_per_buying_unit': 4, 'unit': 'pieces', 'buying_price': 2.9, 'buying_unit': 12}, {'name': 'Vanilla extract', 'quantity_usedIn_product_per_buying_unit': 10, 'unit': 'ml', 'buying_price': 14.1, 'buying_unit': 118}, {'name': 'Lemon juice', 'quantity_usedIn_product_per_buying_unit': 15, 'unit': 'ml', 'buying_price': 1.9, 'buying_unit': 500}]}, {'name': 'Chocolate milkshake', 'sell_price': 8.5, 'sale_ratio': '3.5%', 'ingredients': [{'name': 'Milk', 'quantity_usedIn_product_per_buying_unit': 250, 'unit': 'ml', 'buying_price': 1.3, 'buying_unit': 1000}, {'name': 'Ice-cream', 'quantity_usedIn_product_per_buying_unit': 125, 'unit': 'grams', 'buying_price': 4.7, 'buying_unit': 1000}, {'name': 'Chocolate syrup', 'quantity_usedIn_product_per_buying_unit': 40, 'unit': 'ml', 'buying_price': 14.3, 'buying_unit': 700}, {'name': 'Vanilla extract', 'quantity_usedIn_product_per_buying_unit': 15, 'unit': 'ml', 'buying_price': 14.1, 'buying_unit': 118}]}, {'name': 'Vanilla milkshake', 'sell_price': 6.5, 'sale_ratio': '1.75%', 'ingredients': [{'name': 'Milk', 'quantity_usedIn_product_per_buying_unit': 250, 'unit': 'ml', 'buying_price': 1.3, 'buying_unit': 1000}, {'name': 'Ice-cream', 'quantity_usedIn_product_per_buying_unit': 125, 'unit': 'grams', 'buying_price': 4.7, 'buying_unit': 1000}, {'name': 'Vanilla extract', 'quantity_usedIn_product_per_buying_unit': 15, 'unit': 'ml', 'buying_price': 14.1, 'buying_unit': 118}]}, {'name': 'Coffee milkshake', 'sell_price': 3.6, 'sale_ratio': '1%', 'ingredients': [{'name': 'Milk', 'quantity_usedIn_product_per_buying_unit': 250, 'unit': 'ml', 'buying_price': 1.3, 'buying_unit': 1000}, {'name': 'Ice-cream', 'quantity_usedIn_product_per_buying_unit': 125, 'unit': 'grams', 'buying_price': 4.7, 'buying_unit': 1000}, {'name': 'Espresso', 'quantity_usedIn_product_per_buying_unit': 30, 'unit': 'ml', 'buying_price': 0.5, 'buying_unit': 1}, {'name': 'Sugar', 'quantity_usedIn_product_per_buying_unit': 5, 'unit': 'grams', 'buying_price': 1.2, 'buying_unit': 1000}]}, {'name': 'Strawberry milkshake', 'sell_price': 10.65, 'sale_ratio': '2%', 'ingredients': [{'name': 'Milk', 'quantity_usedIn_product_per_buying_unit': 250, 'unit': 'ml', 'buying_price': 1.3, 'buying_unit': 1000}, {'name': 'Ice-cream', 'quantity_usedIn_product_per_buying_unit': 125, 'unit': 'grams', 'buying_price': 4.7, 'buying_unit': 1000}, {'name': 'Strawberries', 'quantity_usedIn_product_per_buying_unit': 150, 'unit': 'grams', 'buying_price': 6.9, 'buying_unit': 1000}, {'name': 'Sugar', 'quantity_usedIn_product_per_buying_unit': 5, 'unit': 'ml', 'buying_price': 1.2, 'buying_unit': 1000}]}, {'name': 'Banana milkshake', 'sell_price': 4.75, 'sale_ratio': '2.25%', 'ingredients': [{'name': 'Milk', 'quantity_usedIn_product_per_buying_unit': 250, 'unit': 'ml', 'buying_price': 1.3, 'buying_unit': 1000}, {'name': 'Ice-cream', 'quantity_usedIn_product_per_buying_unit': 125, 'unit': 'grams', 'buying_price': 4.7, 'buying_unit': 1000}, {'name': 'Banana', 'quantity_usedIn_product_per_buying_unit': 1, 'unit': 'pieces', 'buying_price': 1.0, 'buying_unit': 5}, {'name': 'Honey', 'quantity_usedIn_product_per_buying_unit': 15, 'unit': 'ml', 'buying_price': 1.8, 'buying_unit': 340}]}, {'name': 'Strawberry banana smoothie', 'sell_price': 6.0, 'sale_ratio': '2.75%', 'ingredients': [{'name': 'Strawberries', 'quantity_usedIn_product_per_buying_unit': 250, 'unit': 'grams', 'buying_price': 6.9, 'buying_unit': 1000}, {'name': 'Banana', 'quantity_usedIn_product_per_buying_unit': 1, 'unit': 'pieces', 'buying_price': 1.0, 'buying_unit': 5}, {'name': 'Milk', 'quantity_usedIn_product_per_buying_unit': 125, 'unit': 'ml', 'buying_price': 1.3, 'buying_unit': 1000}, {'name': 'Yogurt', 'quantity_usedIn_product_per_buying_unit': 62.5, 'unit': 'ml', 'buying_price': 2.2, 'buying_unit': 450}, {'name': 'Honey', 'quantity_usedIn_product_per_buying_unit': 125, 'unit': 'ml', 'buying_price': 1.8, 'buying_unit': 340}, {'name': 'Water', 'quantity_usedIn_product_per_buying_unit': 12.5, 'unit': 'ml', 'buying_price': 0.5, 'buying_unit': 1500}]}, {'name': 'Chocolate banana smoothie', 'sell_price': 3.1, 'sale_ratio': '1.75%', 'ingredients': [{'name': 'Banana', 'quantity_usedIn_product_per_buying_unit': 1, 'unit': 'pieces', 'buying_price': 1.0, 'buying_unit': 5}, {'name': 'Milk', 'quantity_usedIn_product_per_buying_unit': 125, 'unit': 'grams', 'buying_price': 1.3, 'buying_unit': 1000}, {'name': 'Water', 'quantity_usedIn_product_per_buying_unit': 12.5, 'unit': 'ml', 'buying_price': 0.5, 'buying_unit': 1500}, {'name': 'Ice-cream', 'quantity_usedIn_product_per_buying_unit': 125, 'unit': 'grams', 'buying_price': 4.7, 'buying_unit': 1000}, {'name': 'Chocolate syrup', 'quantity_usedIn_product_per_buying_unit': 15, 'unit': 'ml', 'buying_price': 14.3, 'buying_unit': 700}]}, {'name': 'Mango smoothie', 'sell_price': 7.35, 'sale_ratio': '2%', 'ingredients': [{'name': 'Mango', 'quantity_usedIn_product_per_buying_unit': 250, 'unit': 'grams', 'buying_price': 4.5, 'buying_unit': 450}, {'name': 'Milk', 'quantity_usedIn_product_per_buying_unit': 125, 'unit': 'ml', 'buying_price': 1.3, 'buying_unit': 1000}, {'name': 'Yogurt', 'quantity_usedIn_product_per_buying_unit': 62.5, 'unit': 'ml', 'buying_price': 2.2, 'buying_unit': 450}, {'name': 'Honey', 'quantity_usedIn_product_per_buying_unit': 12.5, 'unit': 'ml', 'buying_price': 1.8, 'buying_unit': 340}, {'name': 'Water', 'quantity_usedIn_product_per_buying_unit': 12.5, 'unit': 'ml', 'buying_price': 0.5, 'buying_unit': 1500}]}, {'name': 'Peanut (butter) banana smoothie', 'sell_price': 2.4, 'sale_ratio': '0.25%', 'ingredients': [{'name': 'Peanut butter', 'quantity_usedIn_product_per_buying_unit': 25, 'unit': 'grams', 'buying_price': 8.9, 'buying_unit': 1000}, {'name': 'Banana', 'quantity_usedIn_product_per_buying_unit': 1, 'unit': 'pieces', 'buying_price': 1.0, 'buying_unit': 5}, {'name': 'Milk', 'quantity_usedIn_product_per_buying_unit': 125, 'unit': 'grams', 'buying_price': 1.3, 'buying_unit': 1000}, {'name': 'Yogurt', 'quantity_usedIn_product_per_buying_unit': 62.5, 'unit': 'grams', 'buying_price': 2.2, 'buying_unit': 450}, {'name': 'Honey', 'quantity_usedIn_product_per_buying_unit': 12.5, 'unit': 'ml', 'buying_price': 1.8, 'buying_unit': 340}, {'name': 'Water', 'quantity_usedIn_product_per_buying_unit': 12.5, 'unit': 'ml', 'buying_price': 0.5, 'buying_unit': 1500}]}, {'name': 'Ice tea', 'sell_price': 1.3, 'sale_ratio': '0.75%', 'ingredients': [{'name': 'Black tea loose leaf', 'quantity_usedIn_product_per_buying_unit': 14, 'unit': 'grams', 'buying_price': 6.4, 'buying_unit': 500}, {'name': 'Water', 'quantity_usedIn_product_per_buying_unit': 2, 'unit': 'Liter', 'buying_price': 0.5, 'buying_unit': 1500}]}, {'name': 'Ice coffee', 'sell_price': 0.7, 'sale_ratio': '1.75%', 'ingredients': [{'name': 'Espresso', 'quantity_usedIn_product_per_buying_unit': 15, 'unit': 'grams', 'buying_price': 0.5, 'buying_unit': 1}, {'name': 'Water', 'quantity_usedIn_product_per_buying_unit': 215, 'unit': 'ml', 'buying_price': 0.5, 'buying_unit': 1500}, {'name': 'Milk', 'quantity_usedIn_product_per_buying_unit': 125, 'unit': 'ml', 'buying_price': 1.3, 'buying_unit': 1000}, {'name': 'Sugar', 'quantity_usedIn_product_per_buying_unit': 5, 'unit': 'grams', 'buying_price': 1.2, 'buying_unit': 1000}]}, {'name': 'Lemonade', 'sell_price': 2.3, 'sale_ratio': '3%', 'ingredients': [{'name': 'Lemon juice', 'quantity_usedIn_product_per_buying_unit': 240, 'unit': 'ml', 'buying_price': 1.9, 'buying_unit': 500}, {'name': 'Sugar', 'quantity_usedIn_product_per_buying_unit': 200, 'unit': 'grams', 'buying_price': 1.2, 'buying_unit': 1000}, {'name': 'Water', 'quantity_usedIn_product_per_buying_unit': 1.4, 'unit': 'Liter', 'buying_price': 0.5, 'buying_unit': 1500}]}, {'name': 'Mojito', 'sell_price': 1.7, 'sale_ratio': '2.5%', 'ingredients': [{'name': 'Sugar', 'quantity_usedIn_product_per_buying_unit': 200, 'unit': 'grams', 'buying_price': 1.2, 'buying_unit': 1000}, {'name': 'Dried mint leaf', 'quantity_usedIn_product_per_buying_unit': 3, 'unit': 'grams', 'buying_price': 17.3, 'buying_unit': 1000}, {'name': 'Lemon juice', 'quantity_usedIn_product_per_buying_unit': 120, 'unit': 'ml', 'buying_price': 1.9, 'buying_unit': 500}, {'name': 'Water', 'quantity_usedIn_product_per_buying_unit': 1.4, 'unit': 'Liter', 'buying_price': 0.5, 'buying_unit': 1500}]}, {'name': 'Frappuccino', 'sell_price': 5.35, 'sale_ratio': '1%', 'ingredients': [{'name': 'Milk', 'quantity_usedIn_product_per_buying_unit': 250, 'unit': 'ml', 'buying_price': 1.3, 'buying_unit': 1000}, {'name': 'Ice-cream', 'quantity_usedIn_product_per_buying_unit': 125, 'unit': 'grams', 'buying_price': 4.7, 'buying_unit': 1000}, {'name': 'Chocolate syrup', 'quantity_usedIn_product_per_buying_unit': 40, 'unit': 'ml', 'buying_price': 14.3, 'buying_unit': 700}, {'name': 'Vanilla extract', 'quantity_usedIn_product_per_buying_unit': 15, 'unit': 'ml', 'buying_price': 14.1, 'buying_unit': 118}]}, {'name': 'Honey & Milk', 'sell_price': 0.65, 'sale_ratio': '1.75%', 'ingredients': [{'name': 'Milk', 'quantity_usedIn_product_per_buying_unit': 240, 'unit': 'grams', 'buying_price': 1.3, 'buying_unit': 1000}, {'name': 'Honey', 'quantity_usedIn_product_per_buying_unit': 20, 'unit': 'ml', 'buying_price': 1.8, 'buying_unit': 340}]}, {'name': 'Hot chocolate', 'sell_price': 1.1, 'sale_ratio': '2.25%', 'ingredients': [{'name': 'Cocoa powder', 'quantity_usedIn_product_per_buying_unit': 10, 'unit': 'grams', 'buying_price': 13.0, 'buying_unit': 1000}, {'name': 'Sugar', 'quantity_usedIn_product_per_buying_unit': 25, 'unit': 'grams', 'buying_price': 1.2, 'buying_unit': 1000}, {'name': 'Milk', 'quantity_usedIn_product_per_buying_unit': 240, 'unit': 'ml', 'buying_price': 1.3, 'buying_unit': 1000}, {'name': 'Vanilla extract', 'quantity_usedIn_product_per_buying_unit': 2, 'unit': 'ml', 'buying_price': 14.1, 'buying_unit': 118}]}, {'name': 'Chocolate Milk', 'sell_price': 1.3, 'sale_ratio': '2%', 'ingredients': [{'name': 'Cocoa powder', 'quantity_usedIn_product_per_buying_unit': 15, 'unit': 'grams', 'buying_price': 13.0, 'buying_unit': 1000}, {'name': 'Sugar', 'quantity_usedIn_product_per_buying_unit': 25, 'unit': 'grams', 'buying_price': 1.2, 'buying_unit': 1000}, {'name': 'Milk', 'quantity_usedIn_product_per_buying_unit': 240, 'unit': 'ml', 'buying_price': 1.3, 'buying_unit': 1000}, {'name': 'Vanilla extract', 'quantity_usedIn_product_per_buying_unit': 2.5, 'unit': 'ml', 'buying_price': 14.1, 'buying_unit': 118}]}]}\n",
            "\n",
            "\n",
            "--------------------------------------------------------------------------------\n",
            "\n",
            "Next speaker: control_Agent\n",
            "\n",
            "Replying as control_Agent. Provide feedback to chat_manager. Press enter to skip and use auto-reply, or type 'exit' to end the conversation: What are the ingredients of limonade\n",
            "control_Agent (to chat_manager):\n",
            "\n",
            "What are the ingredients of limonade\n",
            "\n",
            "--------------------------------------------------------------------------------\n",
            "\n",
            "Next speaker: Inventory_Agent\n",
            "\n",
            "Inventory_Agent (to chat_manager):\n",
            "\n",
            "According to the data, the ingredients of Lemonade are:\n",
            "\n",
            "1. **Lemon juice**: 240 ml (quantity used per buying unit = 240 ml, buying price = 1.9, buying unit = 500)\n",
            "2. **Sugar**: 200 grams (quantity used per buying unit = 200 grams, buying price = 1.2, buying unit = 1000)\n",
            "3. **Water**: 1.4 Liter (quantity used per buying unit = 1.4 Liter, buying price = 0.5, buying unit = 1500)\n",
            "\n",
            "--------------------------------------------------------------------------------\n"
          ]
        }
      ]
    },
    {
      "cell_type": "code",
      "source": [],
      "metadata": {
        "id": "8Et_KJNQYEHC"
      },
      "execution_count": 8,
      "outputs": []
    }
  ]
}