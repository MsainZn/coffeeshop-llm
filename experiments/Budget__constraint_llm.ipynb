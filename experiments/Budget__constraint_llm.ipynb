{
  "nbformat": 4,
  "nbformat_minor": 0,
  "metadata": {
    "colab": {
      "provenance": []
    },
    "kernelspec": {
      "name": "python3",
      "display_name": "Python 3"
    },
    "language_info": {
      "name": "python"
    }
  },
  "cells": [
    {
      "cell_type": "code",
      "execution_count": 1,
      "metadata": {
        "colab": {
          "base_uri": "https://localhost:8080/"
        },
        "id": "dM9qpuS9_pyE",
        "outputId": "497141a2-d7a6-4aeb-ca8f-82d37763344c"
      },
      "outputs": [
        {
          "output_type": "stream",
          "name": "stdout",
          "text": [
            "\u001b[?25l   \u001b[90m━━━━━━━━━━━━━━━━━━━━━━━━━━━━━━━━━━━━━━━━\u001b[0m \u001b[32m0.0/119.3 kB\u001b[0m \u001b[31m?\u001b[0m eta \u001b[36m-:--:--\u001b[0m\r\u001b[2K   \u001b[90m━━━━━━━━━━━━━━━━━━━━━━━━━━━━━━━━━━━━━━━━\u001b[0m \u001b[32m119.3/119.3 kB\u001b[0m \u001b[31m3.3 MB/s\u001b[0m eta \u001b[36m0:00:00\u001b[0m\n",
            "\u001b[2K   \u001b[90m━━━━━━━━━━━━━━━━━━━━━━━━━━━━━━━━━━━━━━━━\u001b[0m \u001b[32m408.7/408.7 kB\u001b[0m \u001b[31m14.6 MB/s\u001b[0m eta \u001b[36m0:00:00\u001b[0m\n",
            "\u001b[2K   \u001b[90m━━━━━━━━━━━━━━━━━━━━━━━━━━━━━━━━━━━━━━━━\u001b[0m \u001b[32m106.5/106.5 kB\u001b[0m \u001b[31m7.4 MB/s\u001b[0m eta \u001b[36m0:00:00\u001b[0m\n",
            "\u001b[?25h"
          ]
        }
      ],
      "source": [
        "!pip install -q langgraph langchain_core langchain_groq"
      ]
    },
    {
      "cell_type": "code",
      "source": [
        "from langchain_groq import ChatGroq\n",
        "from google.colab import userdata\n",
        "GROQ_API_KEY=userdata.get('GROQ_API_KEY')\n",
        "llm=ChatGroq(groq_api_key=GROQ_API_KEY,model_name=\"llama-3.2-90b-text-preview\")\n",
        "llm"
      ],
      "metadata": {
        "colab": {
          "base_uri": "https://localhost:8080/"
        },
        "id": "cTSWhwB7J4ih",
        "outputId": "6e10ee55-0941-4a87-f5bb-1cefe721ff5e"
      },
      "execution_count": 2,
      "outputs": [
        {
          "output_type": "execute_result",
          "data": {
            "text/plain": [
              "ChatGroq(client=<groq.resources.chat.completions.Completions object at 0x7e846e16a7d0>, async_client=<groq.resources.chat.completions.AsyncCompletions object at 0x7e846e1dc6d0>, model_name='llama-3.2-90b-text-preview', model_kwargs={}, groq_api_key=SecretStr('**********'))"
            ]
          },
          "metadata": {},
          "execution_count": 2
        }
      ]
    },
    {
      "cell_type": "code",
      "source": [
        "import json\n",
        "from typing import TypedDict\n",
        "\n",
        "class OverallState(TypedDict):\n",
        "    answer: str\n",
        "    path: str\n",
        "    ON_of_products: str\n",
        "    ON_of_ingredients: str\n",
        "    budget: int\n",
        "    data: list[any]\n",
        "\n",
        "class InputState(TypedDict):\n",
        "    path: str\n",
        "\n",
        "class OutputState(TypedDict):\n",
        "    answer: str\n",
        "\n",
        "def read_data(state: InputState) -> OverallState:\n",
        "    \"\"\" A function to read JSON data\"\"\"\n",
        "    with open(state['path'], encoding='utf-8') as f:\n",
        "        data = json.load(f)\n",
        "        data = data['products']\n",
        "    return {'data': data, 'path': state['path'], 'ON_of_products': '', 'ON_of_ingredients': '', 'answer': '', 'budget': 2500}\n",
        "\n",
        "from langchain_core.prompts import ChatPromptTemplate\n",
        "sys_prompt = \"\"\"\n",
        "You are an expert in optimizing ingredient pack purchases under a strict budget.\n",
        "\n",
        "- Your task is to calculate the minimum number of packs required for each of 34 ingredients, ensuring all fit within the specified budget.\n",
        "- Each ingredient has a fixed buying price per pack (e.g., $1.3 for 1000ml of milk or $11.2 for a 500ml pack of caramel sauce).\n",
        "- For each ingredient, calculate the number of packs needed to stay within the budget constraints, while ensuring every ingredient has at least one pack (minimum pack count is 1).\n",
        "- Do not make up anything by youeself. Every ingredients should exactly match.\n",
        "### Output Format:\n",
        "- Please provide the output as a list of ingredients and their pack counts in this exact format:\n",
        "  `Ingredient1: PackCount1, Ingredient2: PackCount2, ..., Ingredient34: PackCount34`\n",
        "- The output must include exactly 34 ingredients with their pack counts (no omissions).\n",
        "\n",
        "### Budget Constraints:\n",
        "- The budget must be respected exactly, using the equation:\n",
        "  `buying_price1 * pack_count1 + buying_price2 * pack_count2 + ... + buying_price34 * pack_count34 <= Budget`\n",
        "\n",
        "### Additional Guidelines:\n",
        "- Distribute the budget efficiently to minimize excess pack counts.\n",
        "- Ensure all pack counts are integers, with no zero values.\n",
        "\n",
        "Calculate the optimal solution and provide the final pack counts in the specified format.\n",
        "\n",
        "\"\"\"\n",
        "\n",
        "llm_prompt = ChatPromptTemplate.from_messages([('system', sys_prompt), ('human', \"{data}\"), ('human', \"{budget}\")])\n",
        "\n",
        "chain = llm_prompt | llm\n",
        "\n",
        "def budget_constraint(state: OverallState):\n",
        "    \"\"\"A tool to consider budget constraint on calculating optimum number of packs for each ingredient\"\"\"\n",
        "    data = state['data']\n",
        "\n",
        "    # Use fixed buying prices directly for each pack type\n",
        "    answer = chain.invoke({'budget': state['budget'], 'data': data})\n",
        "\n",
        "    return {\"ON_of_ingredients\": answer}\n",
        "\n",
        "def final_answer(state: OverallState) -> OutputState:\n",
        "    answer = state['ON_of_ingredients']\n",
        "    prompt = \"\"\"\n",
        "    This is a generated answer. I want you to just print the optimum number of ingredient packs with their name like Milk:5, Water:10, ...\n",
        "    Without any preamble:\n",
        "    {answer}\n",
        "    \"\"\"\n",
        "    final_prompt_template = ChatPromptTemplate.from_template(template=prompt)\n",
        "    final_prompt = final_prompt_template.format(answer=answer)\n",
        "\n",
        "    final_answer = llm.invoke(final_prompt)\n",
        "\n",
        "    return {'answer': final_answer}\n",
        "\n",
        "from langgraph.graph import START, END, StateGraph\n",
        "from IPython.display import Image, display\n",
        "\n",
        "builder = StateGraph(OverallState, input=InputState, output=OutputState)\n",
        "builder.add_node('reading_data', read_data)\n",
        "builder.add_node('budget_constraint', budget_constraint)\n",
        "builder.add_node('final_answer', final_answer)\n",
        "\n",
        "builder.add_edge(START, 'reading_data')\n",
        "builder.add_edge('reading_data', 'budget_constraint')\n",
        "builder.add_edge('budget_constraint', 'final_answer')\n",
        "builder.add_edge('final_answer', END)\n",
        "\n",
        "graph = builder.compile()\n",
        "\n",
        "display(Image(graph.get_graph().draw_mermaid_png()))\n",
        "\n",
        "for output in graph.stream({'path': '/content/Full_Dataset.json'}, stream_mode='values'):\n",
        "    final_answer=output\n",
        "\n"
      ],
      "metadata": {
        "colab": {
          "base_uri": "https://localhost:8080/",
          "height": 469
        },
        "id": "jUrtmhMRZuxs",
        "outputId": "02128eef-2a1b-49bb-c16b-8d5dfd117a4a"
      },
      "execution_count": 37,
      "outputs": [
        {
          "output_type": "display_data",
          "data": {
            "image/jpeg": "[encoded data removed]",
            "text/plain": [
              "<IPython.core.display.Image object>"
            ]
          },
          "metadata": {}
        }
      ]
    },
    {
      "cell_type": "code",
      "source": [
        "final_answer['answer'].pretty_print()"
      ],
      "metadata": {
        "colab": {
          "base_uri": "https://localhost:8080/"
        },
        "id": "cXql6IXWq8tT",
        "outputId": "2ba87257-e4db-4289-e67e-5052567e7a89"
      },
      "execution_count": 38,
      "outputs": [
        {
          "output_type": "stream",
          "name": "stdout",
          "text": [
            "==================================\u001b[1m Ai Message \u001b[0m==================================\n",
            "\n",
            "Espresso beans: 4, Water: 6, Black tea loose leaf: 3, Green tea loose leaf: 2, Dried hibiscus flowers: 1, Dried mint leaf: 1, Honey: 12, All-purpose flour: 10, Sugar: 20, Cocoa powder: 4, Baking powder: 12, Baking soda: 2, Salt: 10, Ground cinnamon: 1, Ground ginger: 1, Eggs: 20, Milk: 20, Vegetable oil: 10, Vanilla extract: 3, Butter: 10, Cream cheese: 10, Cream: 10, Graham cracker crumbs: 2, Lemon juice: 10, Strawberries: 10, Banana: 25, Mango: 5, Peanut butter: 2, Yogurt: 5, Ice-cream: 50, Chocolate syrup: 2, Caramel sauce: 2, Dried ginger root: 10, Grated carrots: 2\n"
          ]
        }
      ]
    },
    {
      "cell_type": "code",
      "source": [],
      "metadata": {
        "id": "FIML6G3yhE-f"
      },
      "execution_count": 18,
      "outputs": []
    }
  ]
}